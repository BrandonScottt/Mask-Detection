{
  "cells": [
    {
      "cell_type": "markdown",
      "metadata": {
        "id": "ZjzR-6W5RjRN"
      },
      "source": [
        "## Installations and Downloads\n",
        "We need to download and install PyTorch XLA to run on TPUs. The TIMM library is also installed to have access to their implementation of Vision Transformer (ViT). Likewise, we will be pulling TIMM's JAX-converted weights which have been ported to PyTorch."
      ]
    },
    {
      "cell_type": "code",
      "execution_count": null,
      "metadata": {
        "execution": {
          "iopub.execute_input": "2021-12-24T16:29:58.625503Z",
          "iopub.status.busy": "2021-12-24T16:29:58.624745Z",
          "iopub.status.idle": "2021-12-24T16:31:02.251894Z",
          "shell.execute_reply": "2021-12-24T16:31:02.250588Z",
          "shell.execute_reply.started": "2021-12-24T16:29:58.625405Z"
        },
        "id": "Umm2YV4xdgr5"
      },
      "outputs": [],
      "source": [
        "!curl -s https://raw.githubusercontent.com/pytorch/xla/master/contrib/scripts/env-setup.py -o pytorch-xla-env-setup.py > /dev/null 2>&1\n",
        "!python pytorch-xla-env-setup.py --version 1.7 > /dev/null 2>&1"
      ]
    },
    {
      "cell_type": "code",
      "execution_count": null,
      "metadata": {
        "execution": {
          "iopub.execute_input": "2021-12-24T16:31:02.254577Z",
          "iopub.status.busy": "2021-12-24T16:31:02.254224Z",
          "iopub.status.idle": "2021-12-24T16:31:15.568888Z",
          "shell.execute_reply": "2021-12-24T16:31:15.567516Z",
          "shell.execute_reply.started": "2021-12-24T16:31:02.254533Z"
        },
        "id": "_oGiRppzhlr0"
      },
      "outputs": [],
      "source": [
        "!pip install -Uq timm > /dev/null 2>&1\n",
        "!wget -q https://github.com/rwightman/pytorch-image-models/releases/download/v0.1-vitjx/jx_vit_base_p16_224-80ecf9dd.pth"
      ]
    },
    {
      "cell_type": "code",
      "execution_count": null,
      "metadata": {
        "execution": {
          "iopub.execute_input": "2021-12-24T16:31:15.571640Z",
          "iopub.status.busy": "2021-12-24T16:31:15.571276Z",
          "iopub.status.idle": "2021-12-24T16:31:19.708934Z",
          "shell.execute_reply": "2021-12-24T16:31:19.707644Z",
          "shell.execute_reply.started": "2021-12-24T16:31:15.571599Z"
        },
        "id": "UsFqX4zGfuWc"
      },
      "outputs": [],
      "source": [
        "import numpy as np\n",
        "import pandas as pd\n",
        "import matplotlib.pyplot as plt\n",
        "import torch\n",
        "import torch.nn as nn\n",
        "import torchvision.transforms as transforms\n",
        "import torch_xla\n",
        "import torch_xla.core.xla_model as xm\n",
        "import torch_xla.distributed.xla_multiprocessing as xmp\n",
        "import torch_xla.distributed.parallel_loader as pl\n",
        "import timm\n",
        "import gc\n",
        "import os\n",
        "import time\n",
        "import random\n",
        "from datetime import datetime\n",
        "from PIL import Image\n",
        "from tqdm.notebook import tqdm\n",
        "from sklearn import model_selection"
      ]
    },
    {
      "cell_type": "markdown",
      "metadata": {
        "id": "StlX3QEvRjRQ"
      },
      "source": [
        "## Seeding and TPU Parallelization\n",
        "To begin with, we will seed everything since most of these methods are non-deterministic. Seeding would allow us to reproduce the results. Then, we will make our TPU computation more efficient by using BF16 and allocate larger memory for tensors."
      ]
    },
    {
      "cell_type": "code",
      "execution_count": null,
      "metadata": {
        "execution": {
          "iopub.execute_input": "2021-12-24T16:31:19.713120Z",
          "iopub.status.busy": "2021-12-24T16:31:19.712263Z",
          "iopub.status.idle": "2021-12-24T16:31:19.725205Z",
          "shell.execute_reply": "2021-12-24T16:31:19.721548Z",
          "shell.execute_reply.started": "2021-12-24T16:31:19.713083Z"
        },
        "id": "9jNZnf4bgmxv"
      },
      "outputs": [],
      "source": [
        "def seed_everything(seed):\n",
        "    random.seed(seed)\n",
        "    os.environ[\"PYTHONHASHSEED\"] = str(seed)\n",
        "    np.random.seed(seed)\n",
        "    torch.manual_seed(seed)\n",
        "    torch.cuda.manual_seed(seed)\n",
        "    torch.backends.cudnn.deterministic = True\n",
        "    torch.backends.cudnn.benchmark = False\n",
        "\n",
        "seed_everything(41)"
      ]
    },
    {
      "cell_type": "code",
      "execution_count": null,
      "metadata": {
        "execution": {
          "iopub.execute_input": "2021-12-24T16:31:19.726909Z",
          "iopub.status.busy": "2021-12-24T16:31:19.726532Z",
          "iopub.status.idle": "2021-12-24T16:31:19.739523Z",
          "shell.execute_reply": "2021-12-24T16:31:19.738652Z",
          "shell.execute_reply.started": "2021-12-24T16:31:19.726880Z"
        },
        "id": "zSt7NEzwRjRQ"
      },
      "outputs": [],
      "source": [
        "os.environ[\"XLA_USE_BF16\"] = \"1\"\n",
        "os.environ[\"XLA_TENSOR_ALLOCATOR_MAXSIZE\"] = \"100000000\""
      ]
    },
    {
      "cell_type": "markdown",
      "metadata": {
        "id": "6d52L6z8RjRR"
      },
      "source": [
        "## Constants\n",
        "We will also declare several global variables which defines the hyperparameters such as batch size, learning rate, number of epochs, etc. This also includes the paths to the necessary files (images, pretrained weights) and what each label corresponds to."
      ]
    },
    {
      "cell_type": "code",
      "execution_count": null,
      "metadata": {
        "execution": {
          "iopub.execute_input": "2021-12-24T16:31:19.741135Z",
          "iopub.status.busy": "2021-12-24T16:31:19.740893Z",
          "iopub.status.idle": "2021-12-24T16:31:19.755636Z",
          "shell.execute_reply": "2021-12-24T16:31:19.754468Z",
          "shell.execute_reply.started": "2021-12-24T16:31:19.741107Z"
        },
        "id": "0tdVJuveRjRR"
      },
      "outputs": [],
      "source": [
        "IMG_SIZE = 224\n",
        "BATCH_SIZE = 32\n",
        "LR = 2e-5\n",
        "N_EPOCHS = 2"
      ]
    },
    {
      "cell_type": "code",
      "execution_count": null,
      "metadata": {
        "execution": {
          "iopub.execute_input": "2021-12-24T16:31:19.757493Z",
          "iopub.status.busy": "2021-12-24T16:31:19.756826Z",
          "iopub.status.idle": "2021-12-24T16:31:19.770990Z",
          "shell.execute_reply": "2021-12-24T16:31:19.769961Z",
          "shell.execute_reply.started": "2021-12-24T16:31:19.757459Z"
        },
        "id": "am-ND084RjRR"
      },
      "outputs": [],
      "source": [
        "ID2LABEL = {\n",
        "    0: \"Mask is worn correctly, covers the nose and mouth.\",\n",
        "    1: \"Mask covers the mouth, but does not cover the nose.\",\n",
        "    2: \"Mask is on, but does not cover the nose or mouth\",\n",
        "    3: \"No mask on the face\",\n",
        "}"
      ]
    },
    {
      "cell_type": "code",
      "execution_count": null,
      "metadata": {
        "execution": {
          "iopub.execute_input": "2021-12-24T16:31:19.772597Z",
          "iopub.status.busy": "2021-12-24T16:31:19.772292Z",
          "iopub.status.idle": "2021-12-24T16:31:19.782297Z",
          "shell.execute_reply": "2021-12-24T16:31:19.781598Z",
          "shell.execute_reply.started": "2021-12-24T16:31:19.772565Z"
        },
        "id": "tG9qNxHiRjRR"
      },
      "outputs": [],
      "source": [
        "DATA_PATH = \"../input/medical-masks-part1/images/\"\n",
        "DF_PATH = \"../input/medical-masks-part1/df.csv\"\n",
        "MODEL_PATH = \"./jx_vit_base_p16_224-80ecf9dd.pth\""
      ]
    },
    {
      "cell_type": "markdown",
      "metadata": {
        "id": "6kYD5s9VRjRR"
      },
      "source": [
        "Also, we found out that there are corrupted images that don't work with the Pillow library, so we will remove them later during preprocessing."
      ]
    },
    {
      "cell_type": "code",
      "execution_count": null,
      "metadata": {
        "execution": {
          "iopub.execute_input": "2021-12-24T16:31:19.784156Z",
          "iopub.status.busy": "2021-12-24T16:31:19.783484Z",
          "iopub.status.idle": "2021-12-24T16:31:19.796895Z",
          "shell.execute_reply": "2021-12-24T16:31:19.796047Z",
          "shell.execute_reply.started": "2021-12-24T16:31:19.784126Z"
        },
        "id": "YYQPTTCrRjRR"
      },
      "outputs": [],
      "source": [
        "CORRUPTED_IMAGES = [\n",
        "    \"000030_1_000030_NONE_29.jpg\",\n",
        "    \"007790_1_005591_NONE_27.jpg\",\n",
        "    \"009065_2_006163_MALE_21.jpg\",\n",
        "    \"009065_3_006163_MALE_21.jpg\",\n",
        "]"
      ]
    },
    {
      "cell_type": "markdown",
      "metadata": {
        "id": "nutoCkNQRjRS"
      },
      "source": [
        "## Data Loading\n",
        "The dataset provides us with a helper dataframe, which contains additional information about the image such as the gender and age of the person, as well as other metadata. We will inspect a few details that will be needed for the pre-processing step."
      ]
    },
    {
      "cell_type": "code",
      "execution_count": null,
      "metadata": {
        "execution": {
          "iopub.execute_input": "2021-12-24T18:24:29.556170Z",
          "iopub.status.busy": "2021-12-24T18:24:29.555819Z",
          "iopub.status.idle": "2021-12-24T18:24:29.732950Z",
          "shell.execute_reply": "2021-12-24T18:24:29.731842Z",
          "shell.execute_reply.started": "2021-12-24T18:24:29.556138Z"
        },
        "id": "hSziHXC0RjRS",
        "outputId": "ae2e46d1-c178-41b3-a1bd-b7140a54db95"
      },
      "outputs": [
        {
          "data": {
            "text/html": [
              "<div>\n",
              "<style scoped>\n",
              "    .dataframe tbody tr th:only-of-type {\n",
              "        vertical-align: middle;\n",
              "    }\n",
              "\n",
              "    .dataframe tbody tr th {\n",
              "        vertical-align: top;\n",
              "    }\n",
              "\n",
              "    .dataframe thead th {\n",
              "        text-align: right;\n",
              "    }\n",
              "</style>\n",
              "<table border=\"1\" class=\"dataframe\">\n",
              "  <thead>\n",
              "    <tr style=\"text-align: right;\">\n",
              "      <th></th>\n",
              "      <th>ID</th>\n",
              "      <th>TYPE</th>\n",
              "      <th>USER_ID</th>\n",
              "      <th>GENDER</th>\n",
              "      <th>AGE</th>\n",
              "      <th>name</th>\n",
              "      <th>size_mb</th>\n",
              "    </tr>\n",
              "  </thead>\n",
              "  <tbody>\n",
              "    <tr>\n",
              "      <th>0</th>\n",
              "      <td>1</td>\n",
              "      <td>1</td>\n",
              "      <td>1</td>\n",
              "      <td>MALE</td>\n",
              "      <td>25</td>\n",
              "      <td>000001_1_000001_MALE_25.jpg</td>\n",
              "      <td>1.801298</td>\n",
              "    </tr>\n",
              "    <tr>\n",
              "      <th>1</th>\n",
              "      <td>1</td>\n",
              "      <td>2</td>\n",
              "      <td>1</td>\n",
              "      <td>MALE</td>\n",
              "      <td>25</td>\n",
              "      <td>000001_2_000001_MALE_25.jpg</td>\n",
              "      <td>1.738558</td>\n",
              "    </tr>\n",
              "    <tr>\n",
              "      <th>2</th>\n",
              "      <td>1</td>\n",
              "      <td>3</td>\n",
              "      <td>1</td>\n",
              "      <td>MALE</td>\n",
              "      <td>25</td>\n",
              "      <td>000001_3_000001_MALE_25.jpg</td>\n",
              "      <td>1.799667</td>\n",
              "    </tr>\n",
              "    <tr>\n",
              "      <th>3</th>\n",
              "      <td>1</td>\n",
              "      <td>4</td>\n",
              "      <td>1</td>\n",
              "      <td>MALE</td>\n",
              "      <td>25</td>\n",
              "      <td>000001_4_000001_MALE_25.jpg</td>\n",
              "      <td>1.740264</td>\n",
              "    </tr>\n",
              "    <tr>\n",
              "      <th>4</th>\n",
              "      <td>2</td>\n",
              "      <td>1</td>\n",
              "      <td>2</td>\n",
              "      <td>MALE</td>\n",
              "      <td>23</td>\n",
              "      <td>000002_1_000002_MALE_23.jpg</td>\n",
              "      <td>1.549695</td>\n",
              "    </tr>\n",
              "  </tbody>\n",
              "</table>\n",
              "</div>"
            ],
            "text/plain": [
              "   ID  TYPE  USER_ID GENDER  AGE                         name   size_mb\n",
              "0   1     1        1   MALE   25  000001_1_000001_MALE_25.jpg  1.801298\n",
              "1   1     2        1   MALE   25  000001_2_000001_MALE_25.jpg  1.738558\n",
              "2   1     3        1   MALE   25  000001_3_000001_MALE_25.jpg  1.799667\n",
              "3   1     4        1   MALE   25  000001_4_000001_MALE_25.jpg  1.740264\n",
              "4   2     1        2   MALE   23  000002_1_000002_MALE_23.jpg  1.549695"
            ]
          },
          "execution_count": 22,
          "metadata": {},
          "output_type": "execute_result"
        }
      ],
      "source": [
        "df = pd.read_csv(DF_PATH)\n",
        "df.head()"
      ]
    },
    {
      "cell_type": "markdown",
      "metadata": {
        "id": "rxaeCxRvRjRS"
      },
      "source": [
        "As shown above, the path to the images are provided in the `name` column, while the labels are contained in the `TYPE` column."
      ]
    },
    {
      "cell_type": "code",
      "execution_count": null,
      "metadata": {
        "execution": {
          "iopub.execute_input": "2021-12-24T15:48:18.478342Z",
          "iopub.status.busy": "2021-12-24T15:48:18.478115Z",
          "iopub.status.idle": "2021-12-24T15:48:18.517614Z",
          "shell.execute_reply": "2021-12-24T15:48:18.516892Z",
          "shell.execute_reply.started": "2021-12-24T15:48:18.478316Z"
        },
        "id": "HOSfTO7RRjRS",
        "outputId": "fc32a855-efea-46ab-bdab-38c1fc8e7938"
      },
      "outputs": [
        {
          "data": {
            "text/html": [
              "<div>\n",
              "<style scoped>\n",
              "    .dataframe tbody tr th:only-of-type {\n",
              "        vertical-align: middle;\n",
              "    }\n",
              "\n",
              "    .dataframe tbody tr th {\n",
              "        vertical-align: top;\n",
              "    }\n",
              "\n",
              "    .dataframe thead th {\n",
              "        text-align: right;\n",
              "    }\n",
              "</style>\n",
              "<table border=\"1\" class=\"dataframe\">\n",
              "  <thead>\n",
              "    <tr style=\"text-align: right;\">\n",
              "      <th></th>\n",
              "      <th>ID</th>\n",
              "      <th>TYPE</th>\n",
              "      <th>USER_ID</th>\n",
              "      <th>AGE</th>\n",
              "      <th>size_mb</th>\n",
              "    </tr>\n",
              "  </thead>\n",
              "  <tbody>\n",
              "    <tr>\n",
              "      <th>count</th>\n",
              "      <td>40000.000000</td>\n",
              "      <td>40000.000000</td>\n",
              "      <td>40000.000000</td>\n",
              "      <td>40000.000000</td>\n",
              "      <td>40000.000000</td>\n",
              "    </tr>\n",
              "    <tr>\n",
              "      <th>mean</th>\n",
              "      <td>5000.500000</td>\n",
              "      <td>2.500000</td>\n",
              "      <td>2924.691300</td>\n",
              "      <td>26.995400</td>\n",
              "      <td>2.144702</td>\n",
              "    </tr>\n",
              "    <tr>\n",
              "      <th>std</th>\n",
              "      <td>2886.787417</td>\n",
              "      <td>1.118048</td>\n",
              "      <td>1869.438379</td>\n",
              "      <td>21.350915</td>\n",
              "      <td>1.508811</td>\n",
              "    </tr>\n",
              "    <tr>\n",
              "      <th>min</th>\n",
              "      <td>1.000000</td>\n",
              "      <td>1.000000</td>\n",
              "      <td>1.000000</td>\n",
              "      <td>18.000000</td>\n",
              "      <td>0.006141</td>\n",
              "    </tr>\n",
              "    <tr>\n",
              "      <th>25%</th>\n",
              "      <td>2500.750000</td>\n",
              "      <td>1.750000</td>\n",
              "      <td>1245.750000</td>\n",
              "      <td>21.000000</td>\n",
              "      <td>1.135371</td>\n",
              "    </tr>\n",
              "    <tr>\n",
              "      <th>50%</th>\n",
              "      <td>5000.500000</td>\n",
              "      <td>2.500000</td>\n",
              "      <td>2865.000000</td>\n",
              "      <td>25.000000</td>\n",
              "      <td>1.738557</td>\n",
              "    </tr>\n",
              "    <tr>\n",
              "      <th>75%</th>\n",
              "      <td>7500.250000</td>\n",
              "      <td>3.250000</td>\n",
              "      <td>4450.250000</td>\n",
              "      <td>30.000000</td>\n",
              "      <td>2.769736</td>\n",
              "    </tr>\n",
              "    <tr>\n",
              "      <th>max</th>\n",
              "      <td>10000.000000</td>\n",
              "      <td>4.000000</td>\n",
              "      <td>6508.000000</td>\n",
              "      <td>2019.000000</td>\n",
              "      <td>11.110311</td>\n",
              "    </tr>\n",
              "  </tbody>\n",
              "</table>\n",
              "</div>"
            ],
            "text/plain": [
              "                 ID          TYPE       USER_ID           AGE       size_mb\n",
              "count  40000.000000  40000.000000  40000.000000  40000.000000  40000.000000\n",
              "mean    5000.500000      2.500000   2924.691300     26.995400      2.144702\n",
              "std     2886.787417      1.118048   1869.438379     21.350915      1.508811\n",
              "min        1.000000      1.000000      1.000000     18.000000      0.006141\n",
              "25%     2500.750000      1.750000   1245.750000     21.000000      1.135371\n",
              "50%     5000.500000      2.500000   2865.000000     25.000000      1.738557\n",
              "75%     7500.250000      3.250000   4450.250000     30.000000      2.769736\n",
              "max    10000.000000      4.000000   6508.000000   2019.000000     11.110311"
            ]
          },
          "execution_count": 11,
          "metadata": {},
          "output_type": "execute_result"
        }
      ],
      "source": [
        "df.describe()"
      ]
    },
    {
      "cell_type": "markdown",
      "metadata": {
        "id": "PCGXSuNbRjRS"
      },
      "source": [
        "There are four different label values, corresponding to the four possible types/categories of mask. Later, we will turn these into tensors and since tensors are indexed from zero, we will decrement them by one."
      ]
    },
    {
      "cell_type": "code",
      "execution_count": null,
      "metadata": {
        "execution": {
          "iopub.execute_input": "2021-12-24T15:48:18.518921Z",
          "iopub.status.busy": "2021-12-24T15:48:18.518704Z",
          "iopub.status.idle": "2021-12-24T15:48:18.524853Z",
          "shell.execute_reply": "2021-12-24T15:48:18.524099Z",
          "shell.execute_reply.started": "2021-12-24T15:48:18.518898Z"
        },
        "id": "p42_kS1ARjRS",
        "outputId": "7aa5b7cf-ce43-4ca8-a399-fbc8bd366d1b"
      },
      "outputs": [
        {
          "data": {
            "text/plain": [
              "array([1, 2, 3, 4])"
            ]
          },
          "execution_count": 12,
          "metadata": {},
          "output_type": "execute_result"
        }
      ],
      "source": [
        "df[\"TYPE\"].unique()"
      ]
    },
    {
      "cell_type": "code",
      "execution_count": null,
      "metadata": {
        "execution": {
          "iopub.execute_input": "2021-12-24T18:25:49.083513Z",
          "iopub.status.busy": "2021-12-24T18:25:49.082918Z",
          "iopub.status.idle": "2021-12-24T18:25:49.114784Z",
          "shell.execute_reply": "2021-12-24T18:25:49.113692Z",
          "shell.execute_reply.started": "2021-12-24T18:25:49.083458Z"
        },
        "id": "TkYjMBqdRjRT"
      },
      "outputs": [],
      "source": [
        "df[\"TYPE\"] = df[\"TYPE\"].apply(lambda x: x - 1)"
      ]
    },
    {
      "cell_type": "markdown",
      "metadata": {
        "id": "R9RqZnyYRjRT"
      },
      "source": [
        "Recall that we still need to remove several corrupted images from the dataset, what I'll do instead is remove them from the dataframe so that they won't be loaded to PyTorch later on."
      ]
    },
    {
      "cell_type": "code",
      "execution_count": null,
      "metadata": {
        "execution": {
          "iopub.execute_input": "2021-12-24T15:48:18.561089Z",
          "iopub.status.busy": "2021-12-24T15:48:18.560889Z",
          "iopub.status.idle": "2021-12-24T15:48:18.590082Z",
          "shell.execute_reply": "2021-12-24T15:48:18.589358Z",
          "shell.execute_reply.started": "2021-12-24T15:48:18.561066Z"
        },
        "id": "cYrvAirVRjRT"
      },
      "outputs": [],
      "source": [
        "for idx, img in enumerate(df.name.values):\n",
        "    if img in CORRUPTED_IMAGES:\n",
        "        df = df.drop(idx)"
      ]
    },
    {
      "cell_type": "markdown",
      "metadata": {
        "id": "rFr-MM7HRjRT"
      },
      "source": [
        "Also, for convenience of data loading in PyTorch later on, we will prepend the parent path of these images."
      ]
    },
    {
      "cell_type": "code",
      "execution_count": null,
      "metadata": {
        "execution": {
          "iopub.execute_input": "2021-12-24T18:24:59.428565Z",
          "iopub.status.busy": "2021-12-24T18:24:59.427448Z",
          "iopub.status.idle": "2021-12-24T18:24:59.456244Z",
          "shell.execute_reply": "2021-12-24T18:24:59.455465Z",
          "shell.execute_reply.started": "2021-12-24T18:24:59.428521Z"
        },
        "id": "xzqhbsnoRjRT"
      },
      "outputs": [],
      "source": [
        "df[\"name\"] = df[\"name\"].apply(lambda x: DATA_PATH + x)"
      ]
    },
    {
      "cell_type": "markdown",
      "metadata": {
        "id": "CwX8S39HRjRT"
      },
      "source": [
        "Also for the convenience of dataloading in PyTorch later on, we will drop the unnecessary columns."
      ]
    },
    {
      "cell_type": "code",
      "execution_count": null,
      "metadata": {
        "execution": {
          "iopub.execute_input": "2021-12-24T18:24:43.043069Z",
          "iopub.status.busy": "2021-12-24T18:24:43.042269Z",
          "iopub.status.idle": "2021-12-24T18:24:43.051984Z",
          "shell.execute_reply": "2021-12-24T18:24:43.051311Z",
          "shell.execute_reply.started": "2021-12-24T18:24:43.043026Z"
        },
        "id": "Jtq7qqepRjRT"
      },
      "outputs": [],
      "source": [
        "drop_columns = [\"ID\", \"USER_ID\", \"GENDER\", \"AGE\", \"size_mb\"]\n",
        "df = df.drop(columns=drop_columns)"
      ]
    },
    {
      "cell_type": "markdown",
      "metadata": {
        "id": "jrP7LkvwRjRT"
      },
      "source": [
        "Here's how the resultant dataframe looks like."
      ]
    },
    {
      "cell_type": "code",
      "execution_count": null,
      "metadata": {
        "execution": {
          "iopub.execute_input": "2021-12-24T15:48:18.626885Z",
          "iopub.status.busy": "2021-12-24T15:48:18.626389Z",
          "iopub.status.idle": "2021-12-24T15:48:18.642180Z",
          "shell.execute_reply": "2021-12-24T15:48:18.641105Z",
          "shell.execute_reply.started": "2021-12-24T15:48:18.626845Z"
        },
        "id": "Nco-WAUGRjRT",
        "outputId": "b626ad6c-cc33-46ea-9f58-f880e6b849c5"
      },
      "outputs": [
        {
          "data": {
            "text/html": [
              "<div>\n",
              "<style scoped>\n",
              "    .dataframe tbody tr th:only-of-type {\n",
              "        vertical-align: middle;\n",
              "    }\n",
              "\n",
              "    .dataframe tbody tr th {\n",
              "        vertical-align: top;\n",
              "    }\n",
              "\n",
              "    .dataframe thead th {\n",
              "        text-align: right;\n",
              "    }\n",
              "</style>\n",
              "<table border=\"1\" class=\"dataframe\">\n",
              "  <thead>\n",
              "    <tr style=\"text-align: right;\">\n",
              "      <th></th>\n",
              "      <th>TYPE</th>\n",
              "      <th>name</th>\n",
              "    </tr>\n",
              "  </thead>\n",
              "  <tbody>\n",
              "    <tr>\n",
              "      <th>0</th>\n",
              "      <td>0</td>\n",
              "      <td>../input/medical-masks-part1/images/000001_1_0...</td>\n",
              "    </tr>\n",
              "    <tr>\n",
              "      <th>1</th>\n",
              "      <td>1</td>\n",
              "      <td>../input/medical-masks-part1/images/000001_2_0...</td>\n",
              "    </tr>\n",
              "    <tr>\n",
              "      <th>2</th>\n",
              "      <td>2</td>\n",
              "      <td>../input/medical-masks-part1/images/000001_3_0...</td>\n",
              "    </tr>\n",
              "    <tr>\n",
              "      <th>3</th>\n",
              "      <td>3</td>\n",
              "      <td>../input/medical-masks-part1/images/000001_4_0...</td>\n",
              "    </tr>\n",
              "    <tr>\n",
              "      <th>4</th>\n",
              "      <td>0</td>\n",
              "      <td>../input/medical-masks-part1/images/000002_1_0...</td>\n",
              "    </tr>\n",
              "    <tr>\n",
              "      <th>...</th>\n",
              "      <td>...</td>\n",
              "      <td>...</td>\n",
              "    </tr>\n",
              "    <tr>\n",
              "      <th>39995</th>\n",
              "      <td>3</td>\n",
              "      <td>../input/medical-masks-part1/images/009999_4_0...</td>\n",
              "    </tr>\n",
              "    <tr>\n",
              "      <th>39996</th>\n",
              "      <td>0</td>\n",
              "      <td>../input/medical-masks-part1/images/010000_1_0...</td>\n",
              "    </tr>\n",
              "    <tr>\n",
              "      <th>39997</th>\n",
              "      <td>1</td>\n",
              "      <td>../input/medical-masks-part1/images/010000_2_0...</td>\n",
              "    </tr>\n",
              "    <tr>\n",
              "      <th>39998</th>\n",
              "      <td>2</td>\n",
              "      <td>../input/medical-masks-part1/images/010000_3_0...</td>\n",
              "    </tr>\n",
              "    <tr>\n",
              "      <th>39999</th>\n",
              "      <td>3</td>\n",
              "      <td>../input/medical-masks-part1/images/010000_4_0...</td>\n",
              "    </tr>\n",
              "  </tbody>\n",
              "</table>\n",
              "<p>39996 rows × 2 columns</p>\n",
              "</div>"
            ],
            "text/plain": [
              "       TYPE                                               name\n",
              "0         0  ../input/medical-masks-part1/images/000001_1_0...\n",
              "1         1  ../input/medical-masks-part1/images/000001_2_0...\n",
              "2         2  ../input/medical-masks-part1/images/000001_3_0...\n",
              "3         3  ../input/medical-masks-part1/images/000001_4_0...\n",
              "4         0  ../input/medical-masks-part1/images/000002_1_0...\n",
              "...     ...                                                ...\n",
              "39995     3  ../input/medical-masks-part1/images/009999_4_0...\n",
              "39996     0  ../input/medical-masks-part1/images/010000_1_0...\n",
              "39997     1  ../input/medical-masks-part1/images/010000_2_0...\n",
              "39998     2  ../input/medical-masks-part1/images/010000_3_0...\n",
              "39999     3  ../input/medical-masks-part1/images/010000_4_0...\n",
              "\n",
              "[39996 rows x 2 columns]"
            ]
          },
          "execution_count": 17,
          "metadata": {},
          "output_type": "execute_result"
        }
      ],
      "source": [
        "df"
      ]
    },
    {
      "cell_type": "markdown",
      "metadata": {
        "id": "wkSVFx19RjRT"
      },
      "source": [
        "### Subset Splitting\n",
        "Finally, we will also split the dataset for training and validation/evaluation. The evaluation subset is how we ensure that our model is not overfitting."
      ]
    },
    {
      "cell_type": "code",
      "execution_count": null,
      "metadata": {
        "execution": {
          "iopub.execute_input": "2021-12-24T18:26:15.891353Z",
          "iopub.status.busy": "2021-12-24T18:26:15.891024Z",
          "iopub.status.idle": "2021-12-24T18:26:15.903614Z",
          "shell.execute_reply": "2021-12-24T18:26:15.902835Z",
          "shell.execute_reply.started": "2021-12-24T18:26:15.891306Z"
        },
        "id": "bErr656MRjRU"
      },
      "outputs": [],
      "source": [
        "train_df, test_df = model_selection.train_test_split(\n",
        "    df, test_size=0.2, random_state=42\n",
        ")"
      ]
    },
    {
      "cell_type": "markdown",
      "metadata": {
        "id": "LOjsp7ZvRjRU"
      },
      "source": [
        "## PyTorch Dataset\n",
        "To support training in PyTorch, we will need to define our own subclass to their `Dataset` class. This is where we will define the length of the dataset and what happens when the dataloader indexes into our dataset. The length is as simple as the length of the dataframe, while indexing into the dataset (defined by `__getitem__`) is where we will return the image-label pair. We load the image using PIL, and the label is simply the value of `TYPE` in the dataframe. Additionally, we will add the option to apply image transforms, which will become handy later during the augmentation step."
      ]
    },
    {
      "cell_type": "code",
      "execution_count": null,
      "metadata": {
        "execution": {
          "iopub.execute_input": "2021-12-24T16:31:19.800586Z",
          "iopub.status.busy": "2021-12-24T16:31:19.799856Z",
          "iopub.status.idle": "2021-12-24T16:31:19.811745Z",
          "shell.execute_reply": "2021-12-24T16:31:19.810885Z",
          "shell.execute_reply.started": "2021-12-24T16:31:19.800531Z"
        },
        "id": "JR0geVoNRjRU"
      },
      "outputs": [],
      "source": [
        "class MaskDataset(torch.utils.data.Dataset):\n",
        "    def __init__(self, df, transforms=None):\n",
        "        super().__init__()\n",
        "        self.df = df.values\n",
        "        self.transforms = transforms\n",
        "\n",
        "    def __len__(self):\n",
        "        return len(self.df)\n",
        "\n",
        "    def __getitem__(self, index):\n",
        "        label, image = self.df[index]\n",
        "        image = Image.open(image)\n",
        "\n",
        "        if self.transforms is not None:\n",
        "            image = self.transforms(image)\n",
        "\n",
        "        return image, label"
      ]
    },
    {
      "cell_type": "markdown",
      "metadata": {
        "id": "eYC8_glCRjRU"
      },
      "source": [
        "Below is an example of indexing into the dataset we defined."
      ]
    },
    {
      "cell_type": "code",
      "execution_count": null,
      "metadata": {
        "execution": {
          "iopub.execute_input": "2021-12-24T18:25:54.784951Z",
          "iopub.status.busy": "2021-12-24T18:25:54.784605Z",
          "iopub.status.idle": "2021-12-24T18:25:54.801374Z",
          "shell.execute_reply": "2021-12-24T18:25:54.800072Z",
          "shell.execute_reply.started": "2021-12-24T18:25:54.784920Z"
        },
        "id": "MBSWXsUSRjRU"
      },
      "outputs": [],
      "source": [
        "x, y = MaskDataset(df)[0]"
      ]
    },
    {
      "cell_type": "code",
      "execution_count": null,
      "metadata": {
        "execution": {
          "iopub.execute_input": "2021-12-24T18:25:58.729537Z",
          "iopub.status.busy": "2021-12-24T18:25:58.728913Z",
          "iopub.status.idle": "2021-12-24T18:25:59.560085Z",
          "shell.execute_reply": "2021-12-24T18:25:59.559172Z",
          "shell.execute_reply.started": "2021-12-24T18:25:58.729486Z"
        },
        "id": "RagL4WEFRjRU",
        "outputId": "412f5a2b-6321-44bd-9560-b4d5cd2d10c1"
      },
      "outputs": [
        {
          "data": {
            "image/png": "[encoded data removed]",
            "text/plain": [
              "<Figure size 432x288 with 1 Axes>"
            ]
          },
          "metadata": {
            "needs_background": "light"
          },
          "output_type": "display_data"
        }
      ],
      "source": [
        "plt.imshow(x)\n",
        "plt.title(ID2LABEL[y])\n",
        "plt.show()"
      ]
    },
    {
      "cell_type": "markdown",
      "metadata": {
        "id": "Ybqgy4jXRjRU"
      },
      "source": [
        "### Data Augmentation\n",
        "Then, we will need to define several augmentations which will help our model generalize better during training. For instance, we can do so by applying random horizontal and vertical flips, and randomly crop them while still maintaining the size. Augmentations are necessary because if we think about it, if we see someone flipped vertically/horizontally, we should still recognize whether or not they wear their mask properly (as humans). Other than that, we will apply the normalization (from pre-trained ImageNet mean and average, since we will use a pre-trained model) and of course, turning them into tensors and finally resizing them. However, we don't apply the augmentation to the validation step, since that part would only be inference and does not require additional generalization.\n",
        "\n",
        "Note: there is test-time augmentation, but we don't think it's necessary here."
      ]
    },
    {
      "cell_type": "code",
      "execution_count": null,
      "metadata": {
        "execution": {
          "iopub.execute_input": "2021-12-24T18:26:10.317589Z",
          "iopub.status.busy": "2021-12-24T18:26:10.317244Z",
          "iopub.status.idle": "2021-12-24T18:26:10.325392Z",
          "shell.execute_reply": "2021-12-24T18:26:10.324282Z",
          "shell.execute_reply.started": "2021-12-24T18:26:10.317553Z"
        },
        "id": "Q5BvdoJTRjRU"
      },
      "outputs": [],
      "source": [
        "transforms_train = transforms.Compose(\n",
        "    [\n",
        "        transforms.Resize((IMG_SIZE, IMG_SIZE)),\n",
        "        transforms.RandomHorizontalFlip(p=0.3),\n",
        "        transforms.RandomVerticalFlip(p=0.3),\n",
        "        transforms.RandomResizedCrop(IMG_SIZE),\n",
        "        transforms.ToTensor(),\n",
        "        transforms.Normalize((0.485, 0.456, 0.406), (0.229, 0.224, 0.225)),\n",
        "    ]\n",
        ")\n",
        "\n",
        "transforms_valid = transforms.Compose(\n",
        "    [\n",
        "        transforms.Resize((IMG_SIZE, IMG_SIZE)),\n",
        "        transforms.ToTensor(),\n",
        "        transforms.Normalize((0.485, 0.456, 0.406), (0.229, 0.224, 0.225)),\n",
        "    ]\n",
        ")"
      ]
    },
    {
      "cell_type": "markdown",
      "metadata": {
        "id": "YJglA9-HRjRV"
      },
      "source": [
        "With these defined, we can port our dataframes into the appropriate datasets for PyTorch."
      ]
    },
    {
      "cell_type": "code",
      "execution_count": null,
      "metadata": {
        "execution": {
          "iopub.execute_input": "2021-12-24T18:26:22.152093Z",
          "iopub.status.busy": "2021-12-24T18:26:22.151615Z",
          "iopub.status.idle": "2021-12-24T18:26:22.159646Z",
          "shell.execute_reply": "2021-12-24T18:26:22.158758Z",
          "shell.execute_reply.started": "2021-12-24T18:26:22.152054Z"
        },
        "id": "7HHVVsm8RjRV"
      },
      "outputs": [],
      "source": [
        "train_dataset = MaskDataset(train_df, transforms=transforms_train)\n",
        "valid_dataset = MaskDataset(test_df, transforms=transforms_valid)"
      ]
    },
    {
      "cell_type": "markdown",
      "metadata": {
        "id": "b1pMspqaRjRd"
      },
      "source": [
        "## PyTorch DataLoader\n",
        "Another important part in training with PyTorch is defining dataloaders. This is especially useful as we will use batching to speed up training. Dataloaders also help for shuffling the training dataset and offloading the dataloading method into multiple workers. On top of that, since we will be leveraging all 8 TPU cores provided by Kaggle, we also need to parallelize/distribute them. Such process is facilitated by PyTorch's `DistributedSampler` to which we need define the number of available cores and the rank of each core. Since we will be using multi-TPU, it will be much more efficient if our batches are of the same size, and hence we need to drop the last batch if it's not a multiple of our defined batch size, during training."
      ]
    },
    {
      "cell_type": "code",
      "execution_count": null,
      "metadata": {
        "id": "Qp-aaDo4RjRd"
      },
      "outputs": [],
      "source": [
        "train_sampler = torch.utils.data.distributed.DistributedSampler(\n",
        "    train_dataset,\n",
        "    num_replicas=xm.xrt_world_size(),\n",
        "    rank=xm.get_ordinal(),\n",
        "    shuffle=True,\n",
        ")\n",
        "\n",
        "valid_sampler = torch.utils.data.distributed.DistributedSampler(\n",
        "    valid_dataset,\n",
        "    num_replicas=xm.xrt_world_size(),\n",
        "    rank=xm.get_ordinal(),\n",
        "    shuffle=False,\n",
        ")\n",
        "\n",
        "train_loader = torch.utils.data.DataLoader(\n",
        "    dataset=train_dataset,\n",
        "    batch_size=BATCH_SIZE,\n",
        "    sampler=train_sampler,\n",
        "    drop_last=True,\n",
        "    num_workers=4,\n",
        ")\n",
        "\n",
        "valid_loader = torch.utils.data.DataLoader(\n",
        "    dataset=valid_dataset,\n",
        "    batch_size=BATCH_SIZE,\n",
        "    sampler=valid_sampler,\n",
        "    drop_last=True,\n",
        "    num_workers=4,\n",
        ")"
      ]
    },
    {
      "cell_type": "markdown",
      "metadata": {
        "id": "eKB_gELeRjRd"
      },
      "source": [
        "To visualize a sample batch, I will create a dummy dataloader on CPU just for visualization purposes."
      ]
    },
    {
      "cell_type": "code",
      "execution_count": null,
      "metadata": {
        "execution": {
          "iopub.execute_input": "2021-12-24T18:26:27.200540Z",
          "iopub.status.busy": "2021-12-24T18:26:27.199825Z",
          "iopub.status.idle": "2021-12-24T18:26:28.929431Z",
          "shell.execute_reply": "2021-12-24T18:26:28.928469Z",
          "shell.execute_reply.started": "2021-12-24T18:26:27.200497Z"
        },
        "id": "seMgdc2CRjRd",
        "outputId": "aaef6dd5-9a57-4b7e-d3c0-2a3ee1f89169"
      },
      "outputs": [
        {
          "data": {
            "image/png": "[encoded data removed]",
            "text/plain": [
              "<Figure size 432x288 with 1 Axes>"
            ]
          },
          "metadata": {
            "needs_background": "light"
          },
          "output_type": "display_data"
        }
      ],
      "source": [
        "import torchvision\n",
        "\n",
        "dummy_loader = torch.utils.data.DataLoader(\n",
        "    dataset=train_dataset,\n",
        "    batch_size=4,\n",
        "    num_workers=0,\n",
        ")\n",
        "\n",
        "def imshow(inp, title=None):\n",
        "    inp = inp.numpy().transpose((1, 2, 0))\n",
        "    mean = np.array([0.485, 0.456, 0.406])\n",
        "    std = np.array([0.229, 0.224, 0.225])\n",
        "    inp = std * inp + mean\n",
        "    inp = np.clip(inp, 0, 1)\n",
        "    plt.imshow(inp)\n",
        "    if title is not None:\n",
        "        plt.title(title)\n",
        "\n",
        "inputs, classes = next(iter(dummy_loader))\n",
        "\n",
        "out = torchvision.utils.make_grid(inputs)\n",
        "\n",
        "imshow(out, title=[ID2LABEL[x.item()] for x in classes])"
      ]
    },
    {
      "cell_type": "markdown",
      "metadata": {
        "id": "xK_l0407RjRd"
      },
      "source": [
        "## Vision Transformer Model\n",
        "Next, we will create a model in PyTorch, which is a subclass of their `nn.Module` class. There are a few core things to define, such as what happens in the `forward` method, and how we are going to extend this model. Extending the model is as simple as replacing the head layer with a `Linear` layer that projects the penultimate output to the number of possible classes. We also load the pretrained model weights obtained from TIMM. In the forward pass, the input `x` is simply passed to that model.\n",
        "\n",
        "Additionally, we will define the training and validation loop from within this model class, for convenience. The training loop follows the regular PyTorch training routine:\n",
        "\n",
        "1. Putting the model to train mode.\n",
        "2. Moving data to the accelerator of choice (GPU/TPU).\n",
        "3. Zeroing the optimizer gradients.\n",
        "4. Performing a forward pass.\n",
        "5. Calculating the loss.\n",
        "6. Performing a backward pass.\n",
        "7. Applying the update step through the optimizer.\n",
        "\n",
        "Logs of training (e.g. loss, accuracy) are also saved for tracking purposes.\n",
        "\n",
        "The validation loop is very much similar to training, with the removal of all the optimization step and only performing a forward pass (inference) on eval mode."
      ]
    },
    {
      "cell_type": "code",
      "execution_count": null,
      "metadata": {
        "execution": {
          "iopub.execute_input": "2021-12-24T16:31:19.814290Z",
          "iopub.status.busy": "2021-12-24T16:31:19.813789Z",
          "iopub.status.idle": "2021-12-24T16:31:19.839219Z",
          "shell.execute_reply": "2021-12-24T16:31:19.838338Z",
          "shell.execute_reply.started": "2021-12-24T16:31:19.814246Z"
        },
        "id": "gqpQc2F4RjRe"
      },
      "outputs": [],
      "source": [
        "class ViTBase16(nn.Module):\n",
        "    def __init__(self, n_classes, model_path=None):\n",
        "\n",
        "        super(ViTBase16, self).__init__()\n",
        "\n",
        "        self.model = timm.create_model(\"vit_base_patch16_224\", pretrained=False)\n",
        "        if model_path:\n",
        "            self.model.load_state_dict(torch.load(model_path))\n",
        "\n",
        "        self.model.head = nn.Linear(self.model.head.in_features, n_classes)\n",
        "\n",
        "    def forward(self, x):\n",
        "        x = self.model(x)\n",
        "        return x\n",
        "\n",
        "    def train_one_epoch(self, train_loader, criterion, optimizer, device):\n",
        "        epoch_loss = 0.0\n",
        "        epoch_accuracy = 0.0\n",
        "\n",
        "        self.model.train()\n",
        "        for i, (data, target) in enumerate(train_loader):\n",
        "            if device.type == \"cuda\":\n",
        "                data, target = data.cuda(), target.cuda()\n",
        "            elif device.type == \"xla\":\n",
        "                data = data.to(device, dtype=torch.float32)\n",
        "                target = target.to(device, dtype=torch.int64)\n",
        "\n",
        "            optimizer.zero_grad()\n",
        "            output = self.forward(data)\n",
        "            loss = criterion(output, target)\n",
        "            loss.backward()\n",
        "\n",
        "            accuracy = (output.argmax(dim=1) == target).float().mean()\n",
        "\n",
        "            epoch_loss += loss\n",
        "            epoch_accuracy += accuracy\n",
        "\n",
        "            if device.type == \"xla\":\n",
        "                xm.optimizer_step(optimizer)\n",
        "\n",
        "                if i % 20 == 0:\n",
        "                    xm.master_print(f\"\\tBATCH {i+1}/{len(train_loader)} - LOSS: {loss}\")\n",
        "\n",
        "            else:\n",
        "                optimizer.step()\n",
        "\n",
        "        return epoch_loss / len(train_loader), epoch_accuracy / len(train_loader)\n",
        "\n",
        "    def validate_one_epoch(self, valid_loader, criterion, device):\n",
        "        valid_loss = 0.0\n",
        "        valid_accuracy = 0.0\n",
        "\n",
        "        self.model.eval()\n",
        "        for data, target in valid_loader:\n",
        "            if device.type == \"cuda\":\n",
        "                data, target = data.cuda(), target.cuda()\n",
        "            elif device.type == \"xla\":\n",
        "                data = data.to(device, dtype=torch.float32)\n",
        "                target = target.to(device, dtype=torch.int64)\n",
        "\n",
        "            with torch.no_grad():\n",
        "                output = self.model(data)\n",
        "                loss = criterion(output, target)\n",
        "\n",
        "                accuracy = (output.argmax(dim=1) == target).float().mean()\n",
        "\n",
        "                valid_loss += loss\n",
        "                valid_accuracy += accuracy\n",
        "\n",
        "        return valid_loss / len(valid_loader), valid_accuracy / len(valid_loader)"
      ]
    },
    {
      "cell_type": "code",
      "execution_count": null,
      "metadata": {
        "execution": {
          "iopub.execute_input": "2021-12-24T18:26:44.037846Z",
          "iopub.status.busy": "2021-12-24T18:26:44.037058Z",
          "iopub.status.idle": "2021-12-24T18:26:46.549914Z",
          "shell.execute_reply": "2021-12-24T18:26:46.548909Z",
          "shell.execute_reply.started": "2021-12-24T18:26:44.037800Z"
        },
        "id": "6zvZEFqGRjRe"
      },
      "outputs": [],
      "source": [
        "n_classes = len(train_df[\"TYPE\"].unique())\n",
        "model = ViTBase16(n_classes, MODEL_PATH)"
      ]
    },
    {
      "cell_type": "code",
      "execution_count": null,
      "metadata": {
        "execution": {
          "iopub.execute_input": "2021-12-24T18:26:46.553363Z",
          "iopub.status.busy": "2021-12-24T18:26:46.552832Z",
          "iopub.status.idle": "2021-12-24T18:26:46.563021Z",
          "shell.execute_reply": "2021-12-24T18:26:46.562066Z",
          "shell.execute_reply.started": "2021-12-24T18:26:46.553303Z"
        },
        "id": "rcXkg_R2RjRe",
        "outputId": "d02baba7-1337-4008-f913-80a0efa2d108"
      },
      "outputs": [
        {
          "data": {
            "text/plain": [
              "ViTBase16(\n",
              "  (model): VisionTransformer(\n",
              "    (patch_embed): PatchEmbed(\n",
              "      (proj): Conv2d(3, 768, kernel_size=(16, 16), stride=(16, 16))\n",
              "      (norm): Identity()\n",
              "    )\n",
              "    (pos_drop): Dropout(p=0.0, inplace=False)\n",
              "    (blocks): Sequential(\n",
              "      (0): Block(\n",
              "        (norm1): LayerNorm((768,), eps=1e-06, elementwise_affine=True)\n",
              "        (attn): Attention(\n",
              "          (qkv): Linear(in_features=768, out_features=2304, bias=True)\n",
              "          (attn_drop): Dropout(p=0.0, inplace=False)\n",
              "          (proj): Linear(in_features=768, out_features=768, bias=True)\n",
              "          (proj_drop): Dropout(p=0.0, inplace=False)\n",
              "        )\n",
              "        (drop_path): Identity()\n",
              "        (norm2): LayerNorm((768,), eps=1e-06, elementwise_affine=True)\n",
              "        (mlp): Mlp(\n",
              "          (fc1): Linear(in_features=768, out_features=3072, bias=True)\n",
              "          (act): GELU()\n",
              "          (fc2): Linear(in_features=3072, out_features=768, bias=True)\n",
              "          (drop): Dropout(p=0.0, inplace=False)\n",
              "        )\n",
              "      )\n",
              "      (1): Block(\n",
              "        (norm1): LayerNorm((768,), eps=1e-06, elementwise_affine=True)\n",
              "        (attn): Attention(\n",
              "          (qkv): Linear(in_features=768, out_features=2304, bias=True)\n",
              "          (attn_drop): Dropout(p=0.0, inplace=False)\n",
              "          (proj): Linear(in_features=768, out_features=768, bias=True)\n",
              "          (proj_drop): Dropout(p=0.0, inplace=False)\n",
              "        )\n",
              "        (drop_path): Identity()\n",
              "        (norm2): LayerNorm((768,), eps=1e-06, elementwise_affine=True)\n",
              "        (mlp): Mlp(\n",
              "          (fc1): Linear(in_features=768, out_features=3072, bias=True)\n",
              "          (act): GELU()\n",
              "          (fc2): Linear(in_features=3072, out_features=768, bias=True)\n",
              "          (drop): Dropout(p=0.0, inplace=False)\n",
              "        )\n",
              "      )\n",
              "      (2): Block(\n",
              "        (norm1): LayerNorm((768,), eps=1e-06, elementwise_affine=True)\n",
              "        (attn): Attention(\n",
              "          (qkv): Linear(in_features=768, out_features=2304, bias=True)\n",
              "          (attn_drop): Dropout(p=0.0, inplace=False)\n",
              "          (proj): Linear(in_features=768, out_features=768, bias=True)\n",
              "          (proj_drop): Dropout(p=0.0, inplace=False)\n",
              "        )\n",
              "        (drop_path): Identity()\n",
              "        (norm2): LayerNorm((768,), eps=1e-06, elementwise_affine=True)\n",
              "        (mlp): Mlp(\n",
              "          (fc1): Linear(in_features=768, out_features=3072, bias=True)\n",
              "          (act): GELU()\n",
              "          (fc2): Linear(in_features=3072, out_features=768, bias=True)\n",
              "          (drop): Dropout(p=0.0, inplace=False)\n",
              "        )\n",
              "      )\n",
              "      (3): Block(\n",
              "        (norm1): LayerNorm((768,), eps=1e-06, elementwise_affine=True)\n",
              "        (attn): Attention(\n",
              "          (qkv): Linear(in_features=768, out_features=2304, bias=True)\n",
              "          (attn_drop): Dropout(p=0.0, inplace=False)\n",
              "          (proj): Linear(in_features=768, out_features=768, bias=True)\n",
              "          (proj_drop): Dropout(p=0.0, inplace=False)\n",
              "        )\n",
              "        (drop_path): Identity()\n",
              "        (norm2): LayerNorm((768,), eps=1e-06, elementwise_affine=True)\n",
              "        (mlp): Mlp(\n",
              "          (fc1): Linear(in_features=768, out_features=3072, bias=True)\n",
              "          (act): GELU()\n",
              "          (fc2): Linear(in_features=3072, out_features=768, bias=True)\n",
              "          (drop): Dropout(p=0.0, inplace=False)\n",
              "        )\n",
              "      )\n",
              "      (4): Block(\n",
              "        (norm1): LayerNorm((768,), eps=1e-06, elementwise_affine=True)\n",
              "        (attn): Attention(\n",
              "          (qkv): Linear(in_features=768, out_features=2304, bias=True)\n",
              "          (attn_drop): Dropout(p=0.0, inplace=False)\n",
              "          (proj): Linear(in_features=768, out_features=768, bias=True)\n",
              "          (proj_drop): Dropout(p=0.0, inplace=False)\n",
              "        )\n",
              "        (drop_path): Identity()\n",
              "        (norm2): LayerNorm((768,), eps=1e-06, elementwise_affine=True)\n",
              "        (mlp): Mlp(\n",
              "          (fc1): Linear(in_features=768, out_features=3072, bias=True)\n",
              "          (act): GELU()\n",
              "          (fc2): Linear(in_features=3072, out_features=768, bias=True)\n",
              "          (drop): Dropout(p=0.0, inplace=False)\n",
              "        )\n",
              "      )\n",
              "      (5): Block(\n",
              "        (norm1): LayerNorm((768,), eps=1e-06, elementwise_affine=True)\n",
              "        (attn): Attention(\n",
              "          (qkv): Linear(in_features=768, out_features=2304, bias=True)\n",
              "          (attn_drop): Dropout(p=0.0, inplace=False)\n",
              "          (proj): Linear(in_features=768, out_features=768, bias=True)\n",
              "          (proj_drop): Dropout(p=0.0, inplace=False)\n",
              "        )\n",
              "        (drop_path): Identity()\n",
              "        (norm2): LayerNorm((768,), eps=1e-06, elementwise_affine=True)\n",
              "        (mlp): Mlp(\n",
              "          (fc1): Linear(in_features=768, out_features=3072, bias=True)\n",
              "          (act): GELU()\n",
              "          (fc2): Linear(in_features=3072, out_features=768, bias=True)\n",
              "          (drop): Dropout(p=0.0, inplace=False)\n",
              "        )\n",
              "      )\n",
              "      (6): Block(\n",
              "        (norm1): LayerNorm((768,), eps=1e-06, elementwise_affine=True)\n",
              "        (attn): Attention(\n",
              "          (qkv): Linear(in_features=768, out_features=2304, bias=True)\n",
              "          (attn_drop): Dropout(p=0.0, inplace=False)\n",
              "          (proj): Linear(in_features=768, out_features=768, bias=True)\n",
              "          (proj_drop): Dropout(p=0.0, inplace=False)\n",
              "        )\n",
              "        (drop_path): Identity()\n",
              "        (norm2): LayerNorm((768,), eps=1e-06, elementwise_affine=True)\n",
              "        (mlp): Mlp(\n",
              "          (fc1): Linear(in_features=768, out_features=3072, bias=True)\n",
              "          (act): GELU()\n",
              "          (fc2): Linear(in_features=3072, out_features=768, bias=True)\n",
              "          (drop): Dropout(p=0.0, inplace=False)\n",
              "        )\n",
              "      )\n",
              "      (7): Block(\n",
              "        (norm1): LayerNorm((768,), eps=1e-06, elementwise_affine=True)\n",
              "        (attn): Attention(\n",
              "          (qkv): Linear(in_features=768, out_features=2304, bias=True)\n",
              "          (attn_drop): Dropout(p=0.0, inplace=False)\n",
              "          (proj): Linear(in_features=768, out_features=768, bias=True)\n",
              "          (proj_drop): Dropout(p=0.0, inplace=False)\n",
              "        )\n",
              "        (drop_path): Identity()\n",
              "        (norm2): LayerNorm((768,), eps=1e-06, elementwise_affine=True)\n",
              "        (mlp): Mlp(\n",
              "          (fc1): Linear(in_features=768, out_features=3072, bias=True)\n",
              "          (act): GELU()\n",
              "          (fc2): Linear(in_features=3072, out_features=768, bias=True)\n",
              "          (drop): Dropout(p=0.0, inplace=False)\n",
              "        )\n",
              "      )\n",
              "      (8): Block(\n",
              "        (norm1): LayerNorm((768,), eps=1e-06, elementwise_affine=True)\n",
              "        (attn): Attention(\n",
              "          (qkv): Linear(in_features=768, out_features=2304, bias=True)\n",
              "          (attn_drop): Dropout(p=0.0, inplace=False)\n",
              "          (proj): Linear(in_features=768, out_features=768, bias=True)\n",
              "          (proj_drop): Dropout(p=0.0, inplace=False)\n",
              "        )\n",
              "        (drop_path): Identity()\n",
              "        (norm2): LayerNorm((768,), eps=1e-06, elementwise_affine=True)\n",
              "        (mlp): Mlp(\n",
              "          (fc1): Linear(in_features=768, out_features=3072, bias=True)\n",
              "          (act): GELU()\n",
              "          (fc2): Linear(in_features=3072, out_features=768, bias=True)\n",
              "          (drop): Dropout(p=0.0, inplace=False)\n",
              "        )\n",
              "      )\n",
              "      (9): Block(\n",
              "        (norm1): LayerNorm((768,), eps=1e-06, elementwise_affine=True)\n",
              "        (attn): Attention(\n",
              "          (qkv): Linear(in_features=768, out_features=2304, bias=True)\n",
              "          (attn_drop): Dropout(p=0.0, inplace=False)\n",
              "          (proj): Linear(in_features=768, out_features=768, bias=True)\n",
              "          (proj_drop): Dropout(p=0.0, inplace=False)\n",
              "        )\n",
              "        (drop_path): Identity()\n",
              "        (norm2): LayerNorm((768,), eps=1e-06, elementwise_affine=True)\n",
              "        (mlp): Mlp(\n",
              "          (fc1): Linear(in_features=768, out_features=3072, bias=True)\n",
              "          (act): GELU()\n",
              "          (fc2): Linear(in_features=3072, out_features=768, bias=True)\n",
              "          (drop): Dropout(p=0.0, inplace=False)\n",
              "        )\n",
              "      )\n",
              "      (10): Block(\n",
              "        (norm1): LayerNorm((768,), eps=1e-06, elementwise_affine=True)\n",
              "        (attn): Attention(\n",
              "          (qkv): Linear(in_features=768, out_features=2304, bias=True)\n",
              "          (attn_drop): Dropout(p=0.0, inplace=False)\n",
              "          (proj): Linear(in_features=768, out_features=768, bias=True)\n",
              "          (proj_drop): Dropout(p=0.0, inplace=False)\n",
              "        )\n",
              "        (drop_path): Identity()\n",
              "        (norm2): LayerNorm((768,), eps=1e-06, elementwise_affine=True)\n",
              "        (mlp): Mlp(\n",
              "          (fc1): Linear(in_features=768, out_features=3072, bias=True)\n",
              "          (act): GELU()\n",
              "          (fc2): Linear(in_features=3072, out_features=768, bias=True)\n",
              "          (drop): Dropout(p=0.0, inplace=False)\n",
              "        )\n",
              "      )\n",
              "      (11): Block(\n",
              "        (norm1): LayerNorm((768,), eps=1e-06, elementwise_affine=True)\n",
              "        (attn): Attention(\n",
              "          (qkv): Linear(in_features=768, out_features=2304, bias=True)\n",
              "          (attn_drop): Dropout(p=0.0, inplace=False)\n",
              "          (proj): Linear(in_features=768, out_features=768, bias=True)\n",
              "          (proj_drop): Dropout(p=0.0, inplace=False)\n",
              "        )\n",
              "        (drop_path): Identity()\n",
              "        (norm2): LayerNorm((768,), eps=1e-06, elementwise_affine=True)\n",
              "        (mlp): Mlp(\n",
              "          (fc1): Linear(in_features=768, out_features=3072, bias=True)\n",
              "          (act): GELU()\n",
              "          (fc2): Linear(in_features=3072, out_features=768, bias=True)\n",
              "          (drop): Dropout(p=0.0, inplace=False)\n",
              "        )\n",
              "      )\n",
              "    )\n",
              "    (norm): LayerNorm((768,), eps=1e-06, elementwise_affine=True)\n",
              "    (pre_logits): Identity()\n",
              "    (head): Linear(in_features=768, out_features=4, bias=True)\n",
              "  )\n",
              ")"
            ]
          },
          "execution_count": 39,
          "metadata": {},
          "output_type": "execute_result"
        }
      ],
      "source": [
        "model"
      ]
    },
    {
      "cell_type": "markdown",
      "metadata": {
        "id": "VDr0TkyeRjRe"
      },
      "source": [
        "### Criterion/Loss, Device, Optimizer\n",
        "A few additional parts are required for training, such as the loss function (also called criterion), the accelerator device (in this case TPU), and the optimizer, where we use the Adam optimizer, which is generally more stable and faster than SGD (debatable, of course). We will move the model to the accelerator and also spike the learning rate by the number of cores we have. The learning rate spiking is optional, but the practice is often performed in a multi-core setup."
      ]
    },
    {
      "cell_type": "code",
      "execution_count": null,
      "metadata": {
        "id": "9P6RDhTWRjRe"
      },
      "outputs": [],
      "source": [
        "criterion = nn.CrossEntropyLoss()\n",
        "\n",
        "device = xm.xla_device()\n",
        "\n",
        "model = ViTBase16(n_classes, MODEL_PATH)\n",
        "\n",
        "lr = LR * xm.xrt_world_size()\n",
        "optimizer = torch.optim.Adam(model.parameters(), lr=lr)"
      ]
    },
    {
      "cell_type": "markdown",
      "metadata": {
        "id": "j2kiTMKaRjRe"
      },
      "source": [
        "## Model Fitting\n",
        "Here, we will then use those aforementioned components and define the model fitting procedure. The code is mostly logging, but the core steps are simply:\n",
        "\n",
        "1. Moving the dataloader as a ParallelLoader.\n",
        "2. Perform the training step.\n",
        "3. Validate the model after each epoch.\n",
        "\n",
        "We log and keep track a few stuff like loss and accuracies, and also save the best model (here, defined when the validation loss decreases). We will return those logs."
      ]
    },
    {
      "cell_type": "code",
      "execution_count": null,
      "metadata": {
        "execution": {
          "iopub.execute_input": "2021-12-24T16:31:19.842128Z",
          "iopub.status.busy": "2021-12-24T16:31:19.841531Z",
          "iopub.status.idle": "2021-12-24T16:31:19.861222Z",
          "shell.execute_reply": "2021-12-24T16:31:19.860589Z",
          "shell.execute_reply.started": "2021-12-24T16:31:19.842085Z"
        },
        "id": "8qwoyozdRjRe"
      },
      "outputs": [],
      "source": [
        "def fit_tpu(\n",
        "    model, epochs, device, criterion, optimizer, train_loader, valid_loader=None\n",
        "):\n",
        "\n",
        "    valid_loss_min = np.Inf\n",
        "\n",
        "    train_losses = []\n",
        "    valid_losses = []\n",
        "    train_accs = []\n",
        "    valid_accs = []\n",
        "\n",
        "    for epoch in range(1, epochs + 1):\n",
        "        gc.collect()\n",
        "        para_train_loader = pl.ParallelLoader(train_loader, [device])\n",
        "\n",
        "        xm.master_print(f\"{'='*50}\")\n",
        "        xm.master_print(f\"EPOCH {epoch} - TRAINING...\")\n",
        "        train_loss, train_acc = model.train_one_epoch(\n",
        "            para_train_loader.per_device_loader(device), criterion, optimizer, device\n",
        "        )\n",
        "        xm.master_print(\n",
        "            f\"\\n\\t[TRAIN] EPOCH {epoch} - LOSS: {train_loss}, ACCURACY: {train_acc}\\n\"\n",
        "        )\n",
        "        train_losses.append(train_loss)\n",
        "        train_accs.append(train_acc)\n",
        "        gc.collect()\n",
        "\n",
        "        if valid_loader is not None:\n",
        "            gc.collect()\n",
        "            para_valid_loader = pl.ParallelLoader(valid_loader, [device])\n",
        "            xm.master_print(f\"EPOCH {epoch} - VALIDATING...\")\n",
        "            valid_loss, valid_acc = model.validate_one_epoch(\n",
        "                para_valid_loader.per_device_loader(device), criterion, device\n",
        "            )\n",
        "            xm.master_print(f\"\\t[VALID] LOSS: {valid_loss}, ACCURACY: {valid_acc}\\n\")\n",
        "            valid_losses.append(valid_loss)\n",
        "            valid_accs.append(valid_acc)\n",
        "            gc.collect()\n",
        "\n",
        "            # save model if validation loss has decreased\n",
        "            if valid_loss <= valid_loss_min and epoch != 1:\n",
        "                xm.master_print(\n",
        "                    \"Validation loss decreased ({:.4f} --> {:.4f}).  Saving model ...\".format(\n",
        "                        valid_loss_min, valid_loss\n",
        "                    )\n",
        "                )\n",
        "                xm.save(model.state_dict(), \"best_model.pth\")\n",
        "\n",
        "            valid_loss_min = valid_loss\n",
        "\n",
        "    return {\n",
        "        \"train_loss\": train_losses,\n",
        "        \"valid_losses\": valid_losses,\n",
        "        \"train_acc\": train_accs,\n",
        "        \"valid_acc\": valid_accs,\n",
        "    }"
      ]
    },
    {
      "cell_type": "markdown",
      "metadata": {
        "id": "gExHAxS0RjRf"
      },
      "source": [
        "## Train!\n",
        "Here we will define the function where the training routine and everything involved are invoked. This is also the function that will be parallelized/forked into the parallel cores. Note: we re-define a few things since it's necessary for us to parallelize them too. The \"flying\" variables we defined above are simply for demonstration purposes."
      ]
    },
    {
      "cell_type": "code",
      "execution_count": null,
      "metadata": {
        "execution": {
          "iopub.execute_input": "2021-12-24T16:31:19.863603Z",
          "iopub.status.busy": "2021-12-24T16:31:19.862700Z",
          "iopub.status.idle": "2021-12-24T16:31:19.878309Z",
          "shell.execute_reply": "2021-12-24T16:31:19.877667Z",
          "shell.execute_reply.started": "2021-12-24T16:31:19.863555Z"
        },
        "id": "OlES_1oyRjRf"
      },
      "outputs": [],
      "source": [
        "def preprocess_dataframe(df, drop_columns, corrupted_images):\n",
        "    df = df.drop(columns=drop_columns)\n",
        "\n",
        "    for idx, img in enumerate(df.name.values):\n",
        "        if img in corrupted_images:\n",
        "            df = df.drop(idx)\n",
        "\n",
        "    df[\"TYPE\"] = df[\"TYPE\"].apply(lambda x: x - 1)\n",
        "    df[\"name\"] = df[\"name\"].apply(lambda x: DATA_PATH + x)\n",
        "\n",
        "    return df\n",
        "\n",
        "\n",
        "def get_augmentations(image_size):\n",
        "    transforms_train = transforms.Compose(\n",
        "        [\n",
        "            transforms.Resize((image_size, image_size)),\n",
        "            transforms.RandomHorizontalFlip(p=0.3),\n",
        "            transforms.RandomVerticalFlip(p=0.3),\n",
        "            transforms.RandomResizedCrop(image_size),\n",
        "            transforms.ToTensor(),\n",
        "            transforms.Normalize((0.485, 0.456, 0.406), (0.229, 0.224, 0.225)),\n",
        "        ]\n",
        "    )\n",
        "\n",
        "    transforms_valid = transforms.Compose(\n",
        "        [\n",
        "            transforms.Resize((image_size, image_size)),\n",
        "            transforms.ToTensor(),\n",
        "            transforms.Normalize((0.485, 0.456, 0.406), (0.229, 0.224, 0.225)),\n",
        "        ]\n",
        "    )\n",
        "\n",
        "    return transforms_train, transforms_valid"
      ]
    },
    {
      "cell_type": "code",
      "execution_count": null,
      "metadata": {
        "execution": {
          "iopub.execute_input": "2021-12-24T16:31:19.880652Z",
          "iopub.status.busy": "2021-12-24T16:31:19.880295Z",
          "iopub.status.idle": "2021-12-24T16:31:19.899120Z",
          "shell.execute_reply": "2021-12-24T16:31:19.897910Z",
          "shell.execute_reply.started": "2021-12-24T16:31:19.880607Z"
        },
        "id": "Ep-_yIJNRjRf"
      },
      "outputs": [],
      "source": [
        "def _run():\n",
        "    df = pd.read_csv(DF_PATH)\n",
        "    drop_columns = [\"ID\", \"USER_ID\", \"GENDER\", \"AGE\", \"size_mb\"]\n",
        "    df = preprocess_dataframe(df, drop_columns, CORRUPTED_IMAGES)\n",
        "\n",
        "    train_df, test_df = model_selection.train_test_split(\n",
        "        df, test_size=0.2, random_state=42\n",
        "    )\n",
        "\n",
        "    n_classes = len(train_df[\"TYPE\"].unique())\n",
        "\n",
        "    transforms_train, transforms_valid = get_augmentations(IMG_SIZE)\n",
        "    train_dataset = MaskDataset(train_df, transforms=transforms_train)\n",
        "    valid_dataset = MaskDataset(test_df, transforms=transforms_valid)\n",
        "\n",
        "    train_sampler = torch.utils.data.distributed.DistributedSampler(\n",
        "        train_dataset,\n",
        "        num_replicas=xm.xrt_world_size(),\n",
        "        rank=xm.get_ordinal(),\n",
        "        shuffle=True,\n",
        "    )\n",
        "\n",
        "    valid_sampler = torch.utils.data.distributed.DistributedSampler(\n",
        "        valid_dataset,\n",
        "        num_replicas=xm.xrt_world_size(),\n",
        "        rank=xm.get_ordinal(),\n",
        "        shuffle=False,\n",
        "    )\n",
        "\n",
        "    train_loader = torch.utils.data.DataLoader(\n",
        "        dataset=train_dataset,\n",
        "        batch_size=BATCH_SIZE,\n",
        "        sampler=train_sampler,\n",
        "        drop_last=True,\n",
        "        num_workers=4,\n",
        "    )\n",
        "\n",
        "    valid_loader = torch.utils.data.DataLoader(\n",
        "        dataset=valid_dataset,\n",
        "        batch_size=BATCH_SIZE,\n",
        "        sampler=valid_sampler,\n",
        "        drop_last=True,\n",
        "        num_workers=4,\n",
        "    )\n",
        "\n",
        "    criterion = nn.CrossEntropyLoss()\n",
        "\n",
        "    device = xm.xla_device()\n",
        "\n",
        "    model = ViTBase16(n_classes, MODEL_PATH)\n",
        "    model.to(device)\n",
        "\n",
        "    lr = LR * xm.xrt_world_size()\n",
        "    optimizer = torch.optim.Adam(model.parameters(), lr=lr)\n",
        "\n",
        "    xm.master_print(f\"INITIALIZING TRAINING ON {xm.xrt_world_size()} TPU CORES\")\n",
        "    start_time = datetime.now()\n",
        "    xm.master_print(f\"Start Time: {start_time}\")\n",
        "\n",
        "    logs = fit_tpu(\n",
        "        model=model,\n",
        "        epochs=N_EPOCHS,\n",
        "        device=device,\n",
        "        criterion=criterion,\n",
        "        optimizer=optimizer,\n",
        "        train_loader=train_loader,\n",
        "        valid_loader=valid_loader,\n",
        "    )\n",
        "\n",
        "    xm.master_print(f\"Execution time: {datetime.now() - start_time}\")\n",
        "\n",
        "    xm.master_print(\"Saving Model\")\n",
        "    xm.save(\n",
        "        model.state_dict(), f'model_5e_{datetime.now().strftime(\"%Y%m%d-%H%M\")}.pth'\n",
        "    )"
      ]
    },
    {
      "cell_type": "markdown",
      "metadata": {
        "id": "RO6hTrOfRjRf"
      },
      "source": [
        "Below is simply a PyTorch XLA function that we will pass to the TPUs when they spawn."
      ]
    },
    {
      "cell_type": "code",
      "execution_count": null,
      "metadata": {
        "execution": {
          "iopub.execute_input": "2021-12-24T16:31:19.902072Z",
          "iopub.status.busy": "2021-12-24T16:31:19.901482Z",
          "iopub.status.idle": "2021-12-24T16:31:19.915840Z",
          "shell.execute_reply": "2021-12-24T16:31:19.914791Z",
          "shell.execute_reply.started": "2021-12-24T16:31:19.902027Z"
        },
        "id": "sltgnjWCwTqW"
      },
      "outputs": [],
      "source": [
        "def _mp_fn(rank, flags):\n",
        "    torch.set_default_tensor_type(\"torch.FloatTensor\")\n",
        "    _run()"
      ]
    },
    {
      "cell_type": "code",
      "execution_count": null,
      "metadata": {
        "execution": {
          "iopub.execute_input": "2021-12-24T16:31:57.028507Z",
          "iopub.status.busy": "2021-12-24T16:31:57.028081Z",
          "iopub.status.idle": "2021-12-24T18:22:38.184575Z",
          "shell.execute_reply": "2021-12-24T18:22:38.180380Z",
          "shell.execute_reply.started": "2021-12-24T16:31:57.028467Z"
        },
        "id": "ldqKeVx5RjRf",
        "outputId": "37903cb2-2e97-4562-e3ff-bf0c3c190544"
      },
      "outputs": [
        {
          "name": "stderr",
          "output_type": "stream",
          "text": [
            "2021-12-24 16:32:16.975926: I torch_xla/csrc/tensor_util.cpp:28] Using BF16 data type for floating point values\n"
          ]
        },
        {
          "name": "stdout",
          "output_type": "stream",
          "text": [
            "INITIALIZING TRAINING ON 8 TPU CORES\n",
            "Start Time: 2021-12-24 16:32:18.292817\n"
          ]
        },
        {
          "name": "stderr",
          "output_type": "stream",
          "text": [
            "2021-12-24 16:32:19.326957: I torch_xla/csrc/tensor_util.cpp:28] Using BF16 data type for floating point values\n"
          ]
        },
        {
          "name": "stdout",
          "output_type": "stream",
          "text": [
            "==================================================\n"
          ]
        },
        {
          "name": "stderr",
          "output_type": "stream",
          "text": [
            "2021-12-24 16:32:19.644107: I torch_xla/csrc/tensor_util.cpp:28] Using BF16 data type for floating point values\n"
          ]
        },
        {
          "name": "stdout",
          "output_type": "stream",
          "text": [
            "EPOCH 1 - TRAINING...\n"
          ]
        },
        {
          "name": "stderr",
          "output_type": "stream",
          "text": [
            "2021-12-24 16:32:22.828296: I torch_xla/csrc/tensor_util.cpp:28] Using BF16 data type for floating point values\n",
            "2021-12-24 16:32:25.724735: I torch_xla/csrc/tensor_util.cpp:28] Using BF16 data type for floating point values\n",
            "2021-12-24 16:32:25.831110: I torch_xla/csrc/tensor_util.cpp:28] Using BF16 data type for floating point values\n",
            "2021-12-24 16:32:26.270057: I torch_xla/csrc/tensor_util.cpp:28] Using BF16 data type for floating point values\n",
            "2021-12-24 16:32:26.396955: I torch_xla/csrc/tensor_util.cpp:28] Using BF16 data type for floating point values\n"
          ]
        },
        {
          "name": "stdout",
          "output_type": "stream",
          "text": [
            "\tBATCH 1/125 - LOSS: 1.4609375\n",
            "\tBATCH 21/125 - LOSS: 0.294921875\n",
            "\tBATCH 41/125 - LOSS: 0.32421875\n",
            "\tBATCH 61/125 - LOSS: 0.234375\n",
            "\tBATCH 81/125 - LOSS: 0.1767578125\n",
            "\tBATCH 101/125 - LOSS: 0.234375\n",
            "\tBATCH 121/125 - LOSS: 0.21875\n",
            "\n",
            "\t[TRAIN] EPOCH 1 - LOSS: 0.330078125, ACCURACY: 0.9140625\n",
            "\n",
            "EPOCH 1 - VALIDATING...\n",
            "\t[VALID] LOSS: 0.1064453125, ACCURACY: 0.984375\n",
            "\n",
            "==================================================\n",
            "EPOCH 2 - TRAINING...\n",
            "\tBATCH 1/125 - LOSS: 0.1787109375\n",
            "\tBATCH 21/125 - LOSS: 0.326171875\n",
            "\tBATCH 41/125 - LOSS: 0.1494140625\n",
            "\tBATCH 61/125 - LOSS: 0.2236328125\n",
            "\tBATCH 81/125 - LOSS: 0.09716796875\n",
            "\tBATCH 101/125 - LOSS: 0.1484375\n",
            "\tBATCH 121/125 - LOSS: 0.203125\n",
            "\n",
            "\t[TRAIN] EPOCH 2 - LOSS: 0.1953125, ACCURACY: 0.96875\n",
            "\n",
            "EPOCH 2 - VALIDATING...\n",
            "\t[VALID] LOSS: 0.09228515625, ACCURACY: 0.9765625\n",
            "\n",
            "Validation loss decreased (0.1064 --> 0.0923).  Saving model ...\n",
            "Execution time: 1:50:17.016098\n",
            "Saving Model\n"
          ]
        }
      ],
      "source": [
        "FLAGS = {}\n",
        "xmp.spawn(_mp_fn, args=(FLAGS,), nprocs=8, start_method=\"fork\")"
      ]
    },
    {
      "cell_type": "code",
      "execution_count": null,
      "metadata": {
        "id": "4uobwv-JRjRg"
      },
      "outputs": [],
      "source": []
    }
  ],
  "metadata": {
    "kernelspec": {
      "display_name": "Python 3",
      "language": "python",
      "name": "python3"
    },
    "language_info": {
      "codemirror_mode": {
        "name": "ipython",
        "version": 3
      },
      "file_extension": ".py",
      "mimetype": "text/x-python",
      "name": "python",
      "nbconvert_exporter": "python",
      "pygments_lexer": "ipython3",
      "version": "3.8.5"
    },
    "colab": {
      "provenance": []
    }
  },
  "nbformat": 4,
  "nbformat_minor": 0
}